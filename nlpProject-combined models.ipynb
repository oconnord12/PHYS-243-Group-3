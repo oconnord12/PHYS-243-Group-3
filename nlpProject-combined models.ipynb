{
 "cells": [
  {
   "cell_type": "code",
   "execution_count": 58,
   "id": "b1a074b9-8c20-4bfd-8b72-900e6ebd77ef",
   "metadata": {},
   "outputs": [],
   "source": [
    "import os\n",
    "import pandas as pd\n",
    "import numpy as np\n",
    "import nltk\n",
    "import random\n",
    "from nltk import FreqDist\n",
    "from nltk.classify import NaiveBayesClassifier\n",
    "from sklearn.ensemble import RandomForestClassifier, GradientBoostingClassifier\n",
    "from nltk.classify.util import accuracy as nltk_accuracy\n",
    "from sklearn.feature_extraction.text import TfidfVectorizer\n",
    "from nltk.corpus import stopwords\n",
    "from nltk.tokenize import word_tokenize\n",
    "from nltk.stem import PorterStemmer\n",
    "from nltk.stem import WordNetLemmatizer\n",
    "import string\n",
    "import sklearn\n",
    "from sklearn import metrics\n",
    "from sklearn.neural_network import MLPClassifier\n",
    "from sklearn.model_selection import train_test_split\n",
    "from sklearn.linear_model import LogisticRegression\n",
    "from sklearn.metrics import accuracy_score\n",
    "from sklearn.neighbors import KNeighborsClassifier\n",
    "import matplotlib.pyplot as plt\n",
    "from imblearn.over_sampling import SMOTE\n",
    "from imblearn.under_sampling import RandomUnderSampler\n",
    "import seaborn as sns"
   ]
  },
  {
   "cell_type": "code",
   "execution_count": 59,
   "id": "e676ab5f-78ca-4374-89b6-254cec137300",
   "metadata": {},
   "outputs": [],
   "source": [
    "def label_files_by_directory(root_dir):\n",
    "    labeled_data = []  # List to store labeled data\n",
    "    \n",
    "    for dir_path, _, files in os.walk(root_dir):\n",
    "        directory_name = os.path.basename(dir_path)\n",
    "        \n",
    "        for file_name in files:\n",
    "            if file_name.endswith(\".txt\"):  # Only consider text files\n",
    "                file_path = os.path.join(dir_path, file_name)\n",
    "                with open(file_path, 'r', encoding='utf-8') as file:\n",
    "                    file_content = file.read()\n",
    "                \n",
    "                labeled_data.append((file_content, directory_name))\n",
    "                \n",
    "    return labeled_data"
   ]
  },
  {
   "cell_type": "code",
   "execution_count": 60,
   "id": "982ac014-a1f9-4c2c-8652-a4a0b4f6cae0",
   "metadata": {},
   "outputs": [
    {
     "name": "stdout",
     "output_type": "stream",
     "text": [
      "       Text\n",
      "Label      \n",
      "1      1522\n",
      "2      1088\n",
      "3       944\n",
      "4      1775\n",
      "5      1162\n"
     ]
    }
   ],
   "source": [
    "# Provide the root directory where your text files are located\n",
    "root_directory = \"/Users/jacquelineduong/Downloads/reviews\"\n",
    "labeled_data = label_files_by_directory(root_directory)\n",
    "\n",
    "# Create a DataFrame\n",
    "data = pd.DataFrame(labeled_data, columns=['Text', 'Label'])\n",
    "data.dropna(inplace=True)\n",
    "data.drop_duplicates(inplace=True)\n",
    "data.reset_index(drop=True, inplace=True)\n",
    "\n",
    "# Print the number of observations in each review score\n",
    "print(data.groupby('Label').count())"
   ]
  },
  {
   "cell_type": "code",
   "execution_count": 61,
   "id": "0c404e80-6b40-40ef-a511-9d7d73ebc28b",
   "metadata": {},
   "outputs": [
    {
     "name": "stderr",
     "output_type": "stream",
     "text": [
      "[nltk_data] Downloading package punkt to\n",
      "[nltk_data]     /Users/jacquelineduong/nltk_data...\n",
      "[nltk_data]   Package punkt is already up-to-date!\n",
      "[nltk_data] Downloading package stopwords to\n",
      "[nltk_data]     /Users/jacquelineduong/nltk_data...\n",
      "[nltk_data]   Package stopwords is already up-to-date!\n",
      "[nltk_data] Downloading package wordnet to\n",
      "[nltk_data]     /Users/jacquelineduong/nltk_data...\n",
      "[nltk_data]   Package wordnet is already up-to-date!\n"
     ]
    },
    {
     "data": {
      "text/plain": [
       "True"
      ]
     },
     "execution_count": 61,
     "metadata": {},
     "output_type": "execute_result"
    }
   ],
   "source": [
    "# Initialize NLTK resources\n",
    "nltk.download('punkt')\n",
    "nltk.download('stopwords')\n",
    "nltk.download('wordnet')"
   ]
  },
  {
   "cell_type": "code",
   "execution_count": 62,
   "id": "edb48d67-4f27-4ca9-a89d-3fd22fb16230",
   "metadata": {},
   "outputs": [],
   "source": [
    "stop_words = set(stopwords.words('english'))\n",
    "stemmer = PorterStemmer()\n",
    "lemmatizer = WordNetLemmatizer()"
   ]
  },
  {
   "cell_type": "code",
   "execution_count": 63,
   "id": "ee8248df-9ef4-4684-a758-f36777485e48",
   "metadata": {},
   "outputs": [],
   "source": [
    "# Preprocess and replace paragraphs in the dataset\n",
    "for idx, row in data.iterrows():\n",
    "    paragraph = row['Text']\n",
    "\n",
    "    # Convert to lowercase\n",
    "    paragraph = paragraph.lower()\n",
    "\n",
    "    # Remove punctuation\n",
    "    paragraph = paragraph.translate(str.maketrans('', '', string.punctuation))\n",
    "\n",
    "    # Tokenize\n",
    "    words = word_tokenize(paragraph)\n",
    "\n",
    "    # Remove stop words and lemmatize\n",
    "    filtered_words = []\n",
    "    for word in words:\n",
    "        if word not in stop_words:\n",
    "            lemmatized_word = lemmatizer.lemmatize(word)\n",
    "            filtered_words.append(lemmatized_word)\n",
    "\n",
    "    preprocessed_paragraph = ' '.join(filtered_words)\n",
    "\n",
    "    # Update the dataset with the preprocessed paragraph\n",
    "    data.at[idx, 'Text'] = preprocessed_paragraph"
   ]
  },
  {
   "cell_type": "code",
   "execution_count": 64,
   "id": "dc3d09f9",
   "metadata": {},
   "outputs": [],
   "source": [
    "data_prepped = data.copy()"
   ]
  },
  {
   "cell_type": "code",
   "execution_count": 65,
   "id": "3cb6a7e7",
   "metadata": {},
   "outputs": [],
   "source": [
    "# Initialize the TF-IDF vectorizer\n",
    "vectorizer = TfidfVectorizer(max_features=2048, ngram_range=(1, 3))\n",
    "\n",
    "# Fit and transform the paragraphs to obtain TF-IDF vectors\n",
    "vectors = vectorizer.fit_transform(data_prepped.Text)\n",
    "\n",
    "# Convert the TF-IDF vectors to a dense array for better readability\n",
    "vectors_array = vectors.toarray()\n",
    "vectors_df = pd.DataFrame(vectors_array, columns=vectorizer.get_feature_names_out())"
   ]
  },
  {
   "cell_type": "code",
   "execution_count": 66,
   "id": "9218cc53",
   "metadata": {},
   "outputs": [],
   "source": [
    "X = vectors_df.copy()\n",
    "y = data_prepped['Label'].copy()"
   ]
  },
  {
   "cell_type": "code",
   "execution_count": 67,
   "id": "cc710a52",
   "metadata": {},
   "outputs": [],
   "source": [
    "train_data, test_data, train_labels, test_labels = train_test_split(X, y, test_size=0.1, random_state=42)"
   ]
  },
  {
   "cell_type": "code",
   "execution_count": 68,
   "id": "8436b1f4",
   "metadata": {},
   "outputs": [],
   "source": [
    "smote = SMOTE(sampling_strategy='auto')  # Adjust the sampling strategy"
   ]
  },
  {
   "cell_type": "code",
   "execution_count": 69,
   "id": "b48543b7",
   "metadata": {},
   "outputs": [],
   "source": [
    "train_data, train_labels = smote.fit_resample(train_data, train_labels)"
   ]
  },
  {
   "cell_type": "markdown",
   "id": "75042fb2",
   "metadata": {},
   "source": [
    "### Logistic Regression Model"
   ]
  },
  {
   "cell_type": "code",
   "execution_count": 70,
   "id": "e64c457c",
   "metadata": {},
   "outputs": [
    {
     "name": "stdout",
     "output_type": "stream",
     "text": [
      "Accuracy: 0.45384615384615384\n"
     ]
    },
    {
     "name": "stderr",
     "output_type": "stream",
     "text": [
      "/Users/jacquelineduong/opt/anaconda3/lib/python3.9/site-packages/sklearn/linear_model/_logistic.py:814: ConvergenceWarning: lbfgs failed to converge (status=1):\n",
      "STOP: TOTAL NO. of ITERATIONS REACHED LIMIT.\n",
      "\n",
      "Increase the number of iterations (max_iter) or scale the data as shown in:\n",
      "    https://scikit-learn.org/stable/modules/preprocessing.html\n",
      "Please also refer to the documentation for alternative solver options:\n",
      "    https://scikit-learn.org/stable/modules/linear_model.html#logistic-regression\n",
      "  n_iter_i = _check_optimize_result(\n"
     ]
    }
   ],
   "source": [
    "# Initialize Logistic Regression model\n",
    "logreg_model = LogisticRegression()\n",
    "\n",
    "# Train the model\n",
    "logreg_model.fit(train_data, train_labels)\n",
    "\n",
    "# Make predictions on the test set\n",
    "lr_predictions = logreg_model.predict(test_data)\n",
    "\n",
    "# Calculate accuracy\n",
    "accuracy = accuracy_score(test_labels, lr_predictions)\n",
    "print(\"Accuracy:\", accuracy)"
   ]
  },
  {
   "cell_type": "markdown",
   "id": "419cf8f9",
   "metadata": {},
   "source": [
    "### Random Forest Model"
   ]
  },
  {
   "cell_type": "code",
   "execution_count": 79,
   "id": "1aa2804f",
   "metadata": {},
   "outputs": [
    {
     "name": "stdout",
     "output_type": "stream",
     "text": [
      "Random Forest Accuracy: 0.45076923076923076\n"
     ]
    }
   ],
   "source": [
    "# Initialize Random Forest model\n",
    "random_forest_model = RandomForestClassifier(n_estimators=69, random_state=42)\n",
    "\n",
    "# Train the Random Forest model\n",
    "random_forest_model.fit(train_data, train_labels)\n",
    "\n",
    "# Make predictions on the test set using Random Forest\n",
    "rf_predictions = random_forest_model.predict(test_data)\n",
    "\n",
    "# Calculate accuracy for Random Forest\n",
    "rf_accuracy = accuracy_score(test_labels, rf_predictions)\n",
    "print(\"Random Forest Accuracy:\", rf_accuracy)"
   ]
  },
  {
   "cell_type": "code",
   "execution_count": 80,
   "id": "bff71fdf",
   "metadata": {},
   "outputs": [
    {
     "data": {
      "image/png": "[encoded data removed]",
      "text/plain": [
       "<Figure size 432x288 with 2 Axes>"
      ]
     },
     "metadata": {
      "needs_background": "light"
     },
     "output_type": "display_data"
    }
   ],
   "source": [
    "cm = sklearn.metrics.confusion_matrix(test_labels, rf_predictions, labels = random_forest_model.classes_)\n",
    "cm_display = sklearn.metrics.ConfusionMatrixDisplay(confusion_matrix = cm, display_labels = random_forest_model.classes_)\n",
    "cm_display.plot()\n",
    "plt.title(\"Random Forest CM\")\n",
    "plt.show()"
   ]
  },
  {
   "cell_type": "code",
   "execution_count": 81,
   "id": "db529a1a",
   "metadata": {},
   "outputs": [
    {
     "name": "stdout",
     "output_type": "stream",
     "text": [
      "         Feature  Importance\n",
      "769        great    0.011181\n",
      "756         good    0.008211\n",
      "1988        work    0.007756\n",
      "1035        love    0.007369\n",
      "536         easy    0.006934\n",
      "1202         one    0.006827\n",
      "272       camera    0.006168\n",
      "1898         use    0.005574\n",
      "1492      return    0.005100\n",
      "1117       month    0.004904\n",
      "1372     product    0.004797\n",
      "732          get    0.004718\n",
      "991         like    0.004684\n",
      "1354       price    0.004524\n",
      "1277       phone    0.004307\n",
      "1400     quality    0.004303\n",
      "1955        well    0.004255\n",
      "569         even    0.004197\n",
      "1813        time    0.004067\n",
      "2009       would    0.004014\n",
      "1845       tried    0.003813\n",
      "229       bought    0.003773\n",
      "1938       waste    0.003751\n",
      "1267     perfect    0.003747\n",
      "1991  work great    0.003596\n"
     ]
    }
   ],
   "source": [
    "feature_importance = pd.DataFrame({'Feature': test_data.columns, 'Importance': random_forest_model.feature_importances_})\n",
    "\n",
    "# Sort feature importance in descending order\n",
    "feature_importance = feature_importance.sort_values(by='Importance', ascending=False)\n",
    "print(feature_importance.head(25))"
   ]
  },
  {
   "cell_type": "markdown",
   "id": "3de94442",
   "metadata": {},
   "source": [
    "### Gradient Boosting Model"
   ]
  },
  {
   "cell_type": "code",
   "execution_count": 72,
   "id": "5266bd8b",
   "metadata": {},
   "outputs": [
    {
     "name": "stdout",
     "output_type": "stream",
     "text": [
      "Gradient Boosting Accuracy: 0.44461538461538463\n"
     ]
    }
   ],
   "source": [
    "gbm_model = GradientBoostingClassifier(n_estimators=100, random_state=42)\n",
    "\n",
    "#train the Gradient Boosting model\n",
    "gbm_model.fit(train_data, train_labels)\n",
    "\n",
    "#make predictions\n",
    "gbm_predictions = gbm_model.predict(test_data)\n",
    "\n",
    "#calculate accuracy\n",
    "gbm_accuracy = accuracy_score(test_labels, gbm_predictions)\n",
    "print(\"Gradient Boosting Accuracy:\", gbm_accuracy)"
   ]
  },
  {
   "cell_type": "markdown",
   "id": "7081dbad",
   "metadata": {},
   "source": [
    "### Multinomial Naive Bayes Model"
   ]
  },
  {
   "cell_type": "code",
   "execution_count": 75,
   "id": "4aab2821",
   "metadata": {},
   "outputs": [
    {
     "name": "stdout",
     "output_type": "stream",
     "text": [
      "Multinomial Naive Bayes Accuracy: 0.46923076923076923\n"
     ]
    }
   ],
   "source": [
    "from sklearn.naive_bayes import MultinomialNB\n",
    "\n",
    "nb_model = MultinomialNB()\n",
    "\n",
    "#train the Multinomial Naive Bayes model\n",
    "nb_model.fit(train_data, train_labels)\n",
    "\n",
    "#make predictions\n",
    "nb_predictions = nb_model.predict(test_data)\n",
    "\n",
    "#calculate accuracy\n",
    "nb_accuracy = accuracy_score(test_labels, nb_predictions)\n",
    "print(\"Multinomial Naive Bayes Accuracy:\", nb_accuracy)"
   ]
  },
  {
   "cell_type": "markdown",
   "id": "12a75aec",
   "metadata": {},
   "source": [
    "### Multilayer Perceptron"
   ]
  },
  {
   "cell_type": "code",
   "execution_count": 76,
   "id": "b9a130bc",
   "metadata": {
    "scrolled": true
   },
   "outputs": [
    {
     "name": "stdout",
     "output_type": "stream",
     "text": [
      "Accuracy: 0.43\n"
     ]
    }
   ],
   "source": [
    "from sklearn.feature_extraction.text import TfidfVectorizer\n",
    "\n",
    "#split datasets\n",
    "X = data['Text']  # Features\n",
    "y = data['Label']  # Target variable\n",
    "\n",
    "\n",
    "X_train, X_test, y_train, y_test = train_test_split(X, y, test_size=0.2, random_state=42)\n",
    "\n",
    "#convert text to numerical features\n",
    "tfidf_vectorizer = TfidfVectorizer(max_features=1000, \n",
    "                                   stop_words='english',\n",
    "                                   max_df=0.7,\n",
    "                                   lowercase=True)\n",
    "\n",
    "#fit and transform the vectorizer on the training data\n",
    "X_train_tfidf = tfidf_vectorizer.fit_transform(X_train)\n",
    "X_test_tfidf = tfidf_vectorizer.transform(X_test)\n",
    "\n",
    "#create the MLPClassifier with chosen hyperparameters\n",
    "mlp_classifier = MLPClassifier(hidden_layer_sizes=(100, 50), max_iter=1000, random_state=42)\n",
    "\n",
    "#train the MLP model on the training data\n",
    "mlp_classifier.fit(X_train_tfidf, y_train)\n",
    "\n",
    "#use the trained model to make predictions\n",
    "y_pred = mlp_classifier.predict(X_test_tfidf)\n",
    "\n",
    "#evaluate accuracy\n",
    "accuracy = accuracy_score(y_test, y_pred)\n",
    "print(f\"Accuracy: {accuracy:.2f}\")"
   ]
  },
  {
   "cell_type": "code",
   "execution_count": 77,
   "id": "84d132d5",
   "metadata": {},
   "outputs": [
    {
     "data": {
      "image/png": "[encoded data removed]",
      "text/plain": [
       "<Figure size 432x288 with 2 Axes>"
      ]
     },
     "metadata": {
      "needs_background": "light"
     },
     "output_type": "display_data"
    }
   ],
   "source": [
    "confusion_matrix = metrics.confusion_matrix(y_test, y_pred)\n",
    "sns.heatmap(confusion_matrix, annot=True, fmt=\"d\", cmap=\"OrRd\")\n",
    "plt.xlabel('Predicted')\n",
    "plt.ylabel('Actual')\n",
    "plt.title('Confusion Matrix')\n",
    "plt.show()"
   ]
  },
  {
   "cell_type": "code",
   "execution_count": 78,
   "id": "5554903a",
   "metadata": {},
   "outputs": [
    {
     "name": "stdout",
     "output_type": "stream",
     "text": [
      "Classification Report:\n",
      "               precision    recall  f1-score   support\n",
      "\n",
      "           1       0.57      0.46      0.51       325\n",
      "           2       0.27      0.33      0.30       205\n",
      "           3       0.24      0.25      0.24       194\n",
      "           4       0.51      0.46      0.48       358\n",
      "           5       0.50      0.59      0.54       217\n",
      "\n",
      "    accuracy                           0.43      1299\n",
      "   macro avg       0.42      0.42      0.42      1299\n",
      "weighted avg       0.44      0.43      0.43      1299\n",
      "\n"
     ]
    }
   ],
   "source": [
    "classification_report = metrics.classification_report(y_test, y_pred)\n",
    "print(\"Classification Report:\\n\", classification_report)"
   ]
  },
  {
   "cell_type": "code",
   "execution_count": null,
   "id": "34f6104e",
   "metadata": {},
   "outputs": [],
   "source": []
  }
 ],
 "metadata": {
  "kernelspec": {
   "display_name": "Python 3 (ipykernel)",
   "language": "python",
   "name": "python3"
  },
  "language_info": {
   "codemirror_mode": {
    "name": "ipython",
    "version": 3
   },
   "file_extension": ".py",
   "mimetype": "text/x-python",
   "name": "python",
   "nbconvert_exporter": "python",
   "pygments_lexer": "ipython3",
   "version": "3.9.12"
  }
 },
 "nbformat": 4,
 "nbformat_minor": 5
}
